{
 "cells": [
  {
   "cell_type": "markdown",
   "id": "c0e486c9-377c-4eaf-8fb1-eb63dfae9033",
   "metadata": {},
   "source": [
    "# Recommend_products is based on (Individual_category, Price, Ratings,Reviews)"
   ]
  },
  {
   "cell_type": "code",
   "execution_count": 1,
   "id": "275bf281-327d-4611-b46f-2460bdd729f6",
   "metadata": {},
   "outputs": [
    {
     "name": "stderr",
     "output_type": "stream",
     "text": [
      "C:\\Users\\Omkar\\AppData\\Local\\Temp\\ipykernel_11924\\37267904.py:3: DtypeWarning: Columns (9) have mixed types. Specify dtype option on import or set low_memory=False.\n",
      "  data = pd.read_csv(r\"C:\\Users\\Omkar\\Downloads\\Myntra dataset\\Myntra fashion\\Myntra Fasion Clothing.csv\")\n"
     ]
    },
    {
     "data": {
      "text/html": [
       "<div>\n",
       "<style scoped>\n",
       "    .dataframe tbody tr th:only-of-type {\n",
       "        vertical-align: middle;\n",
       "    }\n",
       "\n",
       "    .dataframe tbody tr th {\n",
       "        vertical-align: top;\n",
       "    }\n",
       "\n",
       "    .dataframe thead th {\n",
       "        text-align: right;\n",
       "    }\n",
       "</style>\n",
       "<table border=\"1\" class=\"dataframe\">\n",
       "  <thead>\n",
       "    <tr style=\"text-align: right;\">\n",
       "      <th></th>\n",
       "      <th>URL</th>\n",
       "      <th>Product_id</th>\n",
       "      <th>BrandName</th>\n",
       "      <th>Category</th>\n",
       "      <th>Individual_category</th>\n",
       "      <th>category_by_Gender</th>\n",
       "      <th>Description</th>\n",
       "      <th>DiscountPrice (in Rs)</th>\n",
       "      <th>OriginalPrice (in Rs)</th>\n",
       "      <th>DiscountOffer</th>\n",
       "      <th>SizeOption</th>\n",
       "      <th>Ratings</th>\n",
       "      <th>Reviews</th>\n",
       "    </tr>\n",
       "  </thead>\n",
       "  <tbody>\n",
       "    <tr>\n",
       "      <th>0</th>\n",
       "      <td>https://www.myntra.com/jeans/roadster/roadster...</td>\n",
       "      <td>2296012</td>\n",
       "      <td>Roadster</td>\n",
       "      <td>Bottom Wear</td>\n",
       "      <td>jeans</td>\n",
       "      <td>Men</td>\n",
       "      <td>roadster men navy blue slim fit mid rise clean...</td>\n",
       "      <td>824.0</td>\n",
       "      <td>1499.0</td>\n",
       "      <td>45% OFF</td>\n",
       "      <td>28, 30, 32, 34, 36</td>\n",
       "      <td>3.9</td>\n",
       "      <td>999.0</td>\n",
       "    </tr>\n",
       "    <tr>\n",
       "      <th>1</th>\n",
       "      <td>https://www.myntra.com/track-pants/locomotive/...</td>\n",
       "      <td>13780156</td>\n",
       "      <td>LOCOMOTIVE</td>\n",
       "      <td>Bottom Wear</td>\n",
       "      <td>track-pants</td>\n",
       "      <td>Men</td>\n",
       "      <td>locomotive men black  white solid slim fit tra...</td>\n",
       "      <td>517.0</td>\n",
       "      <td>1149.0</td>\n",
       "      <td>55% OFF</td>\n",
       "      <td>S, M, L, XL</td>\n",
       "      <td>4.0</td>\n",
       "      <td>999.0</td>\n",
       "    </tr>\n",
       "    <tr>\n",
       "      <th>2</th>\n",
       "      <td>https://www.myntra.com/shirts/roadster/roadste...</td>\n",
       "      <td>11895958</td>\n",
       "      <td>Roadster</td>\n",
       "      <td>Topwear</td>\n",
       "      <td>shirts</td>\n",
       "      <td>Men</td>\n",
       "      <td>roadster men navy white  black geometric print...</td>\n",
       "      <td>629.0</td>\n",
       "      <td>1399.0</td>\n",
       "      <td>55% OFF</td>\n",
       "      <td>38, 40, 42, 44, 46, 48</td>\n",
       "      <td>4.3</td>\n",
       "      <td>999.0</td>\n",
       "    </tr>\n",
       "  </tbody>\n",
       "</table>\n",
       "</div>"
      ],
      "text/plain": [
       "                                                 URL  Product_id   BrandName  \\\n",
       "0  https://www.myntra.com/jeans/roadster/roadster...     2296012    Roadster   \n",
       "1  https://www.myntra.com/track-pants/locomotive/...    13780156  LOCOMOTIVE   \n",
       "2  https://www.myntra.com/shirts/roadster/roadste...    11895958    Roadster   \n",
       "\n",
       "      Category Individual_category category_by_Gender  \\\n",
       "0  Bottom Wear               jeans                Men   \n",
       "1  Bottom Wear         track-pants                Men   \n",
       "2      Topwear              shirts                Men   \n",
       "\n",
       "                                         Description  DiscountPrice (in Rs)  \\\n",
       "0  roadster men navy blue slim fit mid rise clean...                  824.0   \n",
       "1  locomotive men black  white solid slim fit tra...                  517.0   \n",
       "2  roadster men navy white  black geometric print...                  629.0   \n",
       "\n",
       "   OriginalPrice (in Rs) DiscountOffer              SizeOption  Ratings  \\\n",
       "0                 1499.0       45% OFF      28, 30, 32, 34, 36      3.9   \n",
       "1                 1149.0       55% OFF             S, M, L, XL      4.0   \n",
       "2                 1399.0       55% OFF  38, 40, 42, 44, 46, 48      4.3   \n",
       "\n",
       "   Reviews  \n",
       "0    999.0  \n",
       "1    999.0  \n",
       "2    999.0  "
      ]
     },
     "execution_count": 1,
     "metadata": {},
     "output_type": "execute_result"
    }
   ],
   "source": [
    "import pandas as pd\n",
    "import numpy as np\n",
    "data = pd.read_csv(r\"C:\\Users\\Omkar\\Downloads\\Myntra dataset\\Myntra fashion\\Myntra Fasion Clothing.csv\")\n",
    "data.head(3)"
   ]
  },
  {
   "cell_type": "code",
   "execution_count": 4,
   "id": "3d0ba803-9782-4cc2-8dbe-d4a2e304ce38",
   "metadata": {},
   "outputs": [
    {
     "name": "stdout",
     "output_type": "stream",
     "text": [
      "Individual_category\n",
      "tshirts           61198\n",
      "sarees            57915\n",
      "tops              39126\n",
      "kurtas            38984\n",
      "dresses           35590\n",
      "                  ...  \n",
      "jewellery-set         2\n",
      "hair-accessory        1\n",
      "lungi                 1\n",
      "bracelet              1\n",
      "flip-flops            1\n",
      "Name: count, Length: 92, dtype: int64\n"
     ]
    }
   ],
   "source": [
    "# Extract the column containing the individual categories\n",
    "category_column = data['Individual_category']\n",
    "\n",
    "# Count the occurrences of each category\n",
    "category_counts = category_column.value_counts()\n",
    "\n",
    "# Print the category counts\n",
    "print(category_counts)"
   ]
  },
  {
   "cell_type": "code",
   "execution_count": null,
   "id": "2688d1ec-4c05-4029-ae43-7e5c1fa73105",
   "metadata": {},
   "outputs": [],
   "source": []
  },
  {
   "cell_type": "markdown",
   "id": "b032e708-8ce4-44d0-9733-e65cada9ffcb",
   "metadata": {},
   "source": [
    "# Recommend_products based on (Ratings, Reviews, Price, Individual_category)"
   ]
  },
  {
   "cell_type": "code",
   "execution_count": 6,
   "id": "80b6f11d-3634-44ab-9bcf-795412dcfd8a",
   "metadata": {},
   "outputs": [
    {
     "name": "stderr",
     "output_type": "stream",
     "text": [
      "C:\\Users\\Omkar\\AppData\\Local\\Temp\\ipykernel_11924\\2165787832.py:4: DtypeWarning: Columns (9) have mixed types. Specify dtype option on import or set low_memory=False.\n",
      "  data=pd.read_csv(r\"C:\\Users\\Omkar\\Downloads\\Myntra dataset\\Myntra fashion\\Myntra Fasion Clothing.csv\")\n"
     ]
    }
   ],
   "source": [
    "import pandas as pd\n",
    "\n",
    "# Load the shopping dataset\n",
    "data=pd.read_csv(r\"C:\\Users\\Omkar\\Downloads\\Myntra dataset\\Myntra fashion\\Myntra Fasion Clothing.csv\")\n",
    "\n",
    "# Calculate the weighted average score for each product and add it as a new column\n",
    "data[\"weighted_score\"] = data[\"Ratings\"] * data[\"Reviews\"] / data[\"OriginalPrice (in Rs)\"]\n",
    "\n",
    "# Define a function to recommend products based on rating, reviews, price, and category\n",
    "def recommend_products(rating, reviews, price, category):\n",
    "    # Filter the products based on the given rating, reviews, price, and category\n",
    "    filtered_products = data[\n",
    "        (data[\"Ratings\"] >= rating)\n",
    "        & (data[\"Reviews\"] >= reviews)\n",
    "        & (data[\"OriginalPrice (in Rs)\"] <= price)\n",
    "        & (data[\"Individual_category\"] == Individual_category)\n",
    "    ]\n",
    "\n",
    "    # Sort the filtered products by weighted score in descending order\n",
    "    filtered_products = filtered_products.sort_values(by=\"weighted_score\", ascending=False)\n",
    "\n",
    "    # Return the top 10 recommended products\n",
    "    return filtered_products.head(10)\n"
   ]
  },
  {
   "cell_type": "code",
   "execution_count": 7,
   "id": "09036a92-17d5-4518-9d72-6d138fa3bdc6",
   "metadata": {},
   "outputs": [
    {
     "name": "stdout",
     "output_type": "stream",
     "text": [
      "                                                    URL  Product_id  \\\n",
      "5     https://www.myntra.com/tops/mast--harbour/mast...     2490950   \n",
      "420   https://www.myntra.com/tops/roadster/roadster-...    11373682   \n",
      "1608  https://www.myntra.com/tops/roadster/roadster-...     8330195   \n",
      "743   https://www.myntra.com/tops/mast--harbour/mast...     2490953   \n",
      "1206  https://www.myntra.com/tops/roadster/roadster-...    11373642   \n",
      "386   https://www.myntra.com/tops/her-by-invictus/he...    11735666   \n",
      "1355  https://www.myntra.com/tops/mast--harbour/mast...     2490952   \n",
      "726   https://www.myntra.com/tops/la-zoire/la-zoire-...      807931   \n",
      "279   https://www.myntra.com/tops/tokyo-talkies/toky...    12009564   \n",
      "1652  https://www.myntra.com/tops/roadster/the-roads...    10964506   \n",
      "\n",
      "            BrandName Category Individual_category category_by_Gender  \\\n",
      "5      Mast & Harbour  Western                tops              Women   \n",
      "420          Roadster  Western                tops              Women   \n",
      "1608         Roadster  Western                tops              Women   \n",
      "743    Mast & Harbour  Western                tops              Women   \n",
      "1206         Roadster  Western                tops              Women   \n",
      "386   her by invictus  Western                tops              Women   \n",
      "1355   Mast & Harbour  Western                tops              Women   \n",
      "726          La Zoire  Western                tops              Women   \n",
      "279     Tokyo Talkies  Western                tops              Women   \n",
      "1652         Roadster  Western                tops              Women   \n",
      "\n",
      "                                            Description  \\\n",
      "5             mast  harbour women yellow solid tank top   \n",
      "420   roadster women white  black solid a line pure ...   \n",
      "1608  roadster women mustard yellow styled back pure...   \n",
      "743                 mast  harbour women black solid top   \n",
      "1206  roadster women black  white solid a line pure ...   \n",
      "386   her by invictus navy blue  white floral pleate...   \n",
      "1355            mast  harbour women pink solid tank top   \n",
      "726                    la zoire green sheer knotted top   \n",
      "279   tokyo talkies navy blue  white vertical stripe...   \n",
      "1652  the roadster lifestyle co women mustard yellow...   \n",
      "\n",
      "      DiscountPrice (in Rs)  OriginalPrice (in Rs) DiscountOffer  \\\n",
      "5                       NaN                  599.0       40% OFF   \n",
      "420                     NaN                  599.0       55% OFF   \n",
      "1608                    NaN                  499.0       40% OFF   \n",
      "743                     NaN                  599.0       45% OFF   \n",
      "1206                    NaN                  599.0       60% OFF   \n",
      "386                     NaN                  699.0       50% OFF   \n",
      "1355                    NaN                  599.0       40% OFF   \n",
      "726                     NaN                  699.0       20% OFF   \n",
      "279                     NaN                  799.0       47% OFF   \n",
      "1652                    NaN                  599.0       45% OFF   \n",
      "\n",
      "            SizeOption  Ratings  Reviews  weighted_score  \n",
      "5      XS, S, M, L, XL      4.4    999.0        7.338230  \n",
      "420    XS, S, M, L, XL      4.2    918.0        6.436728  \n",
      "1608   XS, S, M, L, XL      4.2    749.0        6.304208  \n",
      "743    XS, S, M, L, XL      4.2    866.0        6.072120  \n",
      "1206   XS, S, M, L, XL      4.5    798.0        5.994992  \n",
      "386   S, M, L, XL, XXL      4.3    925.0        5.690272  \n",
      "1355   XS, S, M, L, XL      4.3    782.0        5.613689  \n",
      "726        S, M, L, XL      4.3    868.0        5.339628  \n",
      "279        S, M, L, XL      4.4    946.0        5.209512  \n",
      "1652   XS, S, M, L, XL      4.2    742.0        5.202671  \n"
     ]
    }
   ],
   "source": [
    "# Example usage\n",
    "Ratings = 4\n",
    "Reviews = 500\n",
    "Price = 1000\n",
    "Individual_category = \"tops\"  # Replace with the desired category\n",
    "\n",
    "recommended_products = recommend_products(Ratings, Reviews, Price, Individual_category)\n",
    "\n",
    "# Print the recommended products\n",
    "print(recommended_products)"
   ]
  },
  {
   "cell_type": "code",
   "execution_count": null,
   "id": "5532b680-c6a7-481f-8a8f-ac42736a9df0",
   "metadata": {},
   "outputs": [],
   "source": []
  }
 ],
 "metadata": {
  "kernelspec": {
   "display_name": "Python 3 (ipykernel)",
   "language": "python",
   "name": "python3"
  },
  "language_info": {
   "codemirror_mode": {
    "name": "ipython",
    "version": 3
   },
   "file_extension": ".py",
   "mimetype": "text/x-python",
   "name": "python",
   "nbconvert_exporter": "python",
   "pygments_lexer": "ipython3",
   "version": "3.11.7"
  }
 },
 "nbformat": 4,
 "nbformat_minor": 5
}
